{
 "cells": [
  {
   "cell_type": "code",
   "execution_count": 1,
   "id": "cfab8f2d-22b8-4651-9411-7a68a7989eea",
   "metadata": {},
   "outputs": [],
   "source": [
    "import os\n",
    "import re\n",
    "import collections\n",
    "import copy\n",
    "\n",
    "import numpy as np\n",
    "import matplotlib.pyplot as plt\n",
    "%matplotlib inline\n",
    "\n",
    "from IPython.display import clear_output\n",
    "from random import sample\n",
    "\n",
    "import dlnlputils\n",
    "from dlnlputils.data import tokenize_corpus, build_vocabulary\n",
    "import torch\n",
    "\n",
    "device = torch.device(\"cuda:0\" if torch.cuda.is_available() else \"cpu\")"
   ]
  },
  {
   "cell_type": "code",
   "execution_count": 2,
   "id": "1ad3bb90-5968-4cc8-9620-b9d1a1d1243f",
   "metadata": {},
   "outputs": [],
   "source": [
    "# Если Вы запускаете ноутбук на colab или kaggle, добавьте в начало пути ./stepik-dl-nlp\n",
    "with open('datasets/russian_names.txt') as input_file:\n",
    "    names = input_file.read()[:-1].split('\\n')\n",
    "    names = [' ' + line for line in names]\n",
    "handled_text = names"
   ]
  },
  {
   "cell_type": "code",
   "execution_count": 3,
   "id": "0e3166c0-2754-4519-b836-46a351d611c5",
   "metadata": {},
   "outputs": [
    {
     "name": "stdout",
     "output_type": "stream",
     "text": [
      "num_tokens = 53\n"
     ]
    }
   ],
   "source": [
    "#all unique characters go here\n",
    "tokens = list(set(''.join(handled_text)))\n",
    "\n",
    "num_tokens = len(tokens)\n",
    "print ('num_tokens =', num_tokens)"
   ]
  },
  {
   "cell_type": "code",
   "execution_count": 4,
   "id": "167fd7ec-8d49-4c3d-a113-152cf652ce21",
   "metadata": {},
   "outputs": [],
   "source": [
    "token_to_id = {token: idx for idx, token in enumerate(tokens)}"
   ]
  },
  {
   "cell_type": "code",
   "execution_count": 5,
   "id": "5fa6cb00-7f32-4e4d-9875-a34a53c3ed8e",
   "metadata": {},
   "outputs": [
    {
     "name": "stdout",
     "output_type": "stream",
     "text": [
      "Seems alright!\n"
     ]
    }
   ],
   "source": [
    "assert len(tokens) == len(token_to_id), \"dictionaries must have same size\"\n",
    "\n",
    "for i in range(num_tokens):\n",
    "    assert token_to_id[tokens[i]] == i, \"token identifier must be it's position in tokens list\"\n",
    "\n",
    "print(\"Seems alright!\")"
   ]
  },
  {
   "cell_type": "code",
   "execution_count": 6,
   "id": "71519716-4b58-496a-a42f-76e49f85a7fc",
   "metadata": {},
   "outputs": [],
   "source": [
    "def to_matrix(data, token_to_id, max_len=None, dtype='int32', batch_first = True):\n",
    "    \"\"\"Casts a list of names into rnn-digestable matrix\"\"\"\n",
    "    \n",
    "    max_len = max_len or max(map(len, data))\n",
    "    data_ix = np.zeros([len(data), max_len], dtype) + token_to_id[' ']\n",
    "\n",
    "    for i in range(len(data)):\n",
    "        line_ix = [token_to_id[c] for c in data[i]]\n",
    "        data_ix[i, :len(line_ix)] = line_ix\n",
    "        \n",
    "    if not batch_first: # convert [batch, time] into [time, batch]\n",
    "        data_ix = np.transpose(data_ix)\n",
    "\n",
    "    return data_ix"
   ]
  },
  {
   "cell_type": "code",
   "execution_count": 7,
   "id": "157eb44c-8aff-418a-ac6a-3acb0bc0f0d0",
   "metadata": {},
   "outputs": [
    {
     "name": "stdout",
     "output_type": "stream",
     "text": [
      " Abaidulin\n",
      "[18 36 19 24 37  2 34  0 37 47 18]\n",
      "10\n"
     ]
    }
   ],
   "source": [
    "print(handled_text[3])\n",
    "print(to_matrix(handled_text[3:5], token_to_id)[0])\n",
    "print(len(handled_text[3]))"
   ]
  },
  {
   "cell_type": "code",
   "execution_count": 8,
   "id": "afa9d778-6cee-44bb-8662-fcfb5aa36f90",
   "metadata": {},
   "outputs": [],
   "source": [
    "import torch, torch.nn as nn\n",
    "import torch.nn.functional as F"
   ]
  },
  {
   "cell_type": "code",
   "execution_count": 9,
   "id": "f2720cb5-757d-4ee3-9874-9ebc60cd5233",
   "metadata": {},
   "outputs": [],
   "source": [
    "from IPython.display import clear_output\n",
    "from random import sample\n",
    "\n",
    "class CharLSTMLoop(nn.Module):\n",
    "    def __init__(self, num_tokens=num_tokens, emb_size=64, hidden_size=128):\n",
    "        super(self.__class__, self).__init__()\n",
    "        self.emb = nn.Embedding(num_tokens, emb_size)\n",
    "        self.LSTM = nn.LSTM(input_size=emb_size, hidden_size=hidden_size, num_layers=1, batch_first=True)\n",
    "        self.hid_to_logits = nn.Linear(hidden_size, num_tokens)\n",
    "        \n",
    "    def forward(self, x, h=None, c=None):\n",
    "        if h is not None and c is not None:\n",
    "            out_put, (h_new, c_new) = self.LSTM(self.emb(x), (h, c))\n",
    "        else:\n",
    "            out_put, (h_new, c_new) = self.LSTM(self.emb(x))\n",
    "            \n",
    "        next_logits = self.hid_to_logits(out_put)\n",
    "        next_logp = F.log_softmax(next_logits, dim=-1)\n",
    "        \n",
    "        return next_logp, h_new, c_new"
   ]
  },
  {
   "cell_type": "code",
   "execution_count": 10,
   "id": "6666ab20-ada7-4135-aaa6-dd3ec08194ff",
   "metadata": {},
   "outputs": [
    {
     "data": {
      "image/png": "[encoded data removed]",
      "text/plain": [
       "<Figure size 432x288 with 1 Axes>"
      ]
     },
     "metadata": {
      "needs_background": "light"
     },
     "output_type": "display_data"
    }
   ],
   "source": [
    "MAX_LENGTH = max(map(len, handled_text))\n",
    "\n",
    "model = CharLSTMLoop()\n",
    "model = model.to(device)\n",
    "opt = torch.optim.Adam(model.parameters())\n",
    "history = []\n",
    "\n",
    "best_loss = 6\n",
    "\n",
    "best_model_wts = copy.deepcopy(model.state_dict())\n",
    "\n",
    "for i in range(4000):\n",
    "    batch_ix = to_matrix(sample(handled_text, 32), token_to_id, max_len=MAX_LENGTH)\n",
    "    batch_ix = torch.tensor(batch_ix, dtype=torch.int64).to(device)\n",
    "\n",
    "    logp_seq, _, _ = model(batch_ix)\n",
    "    \n",
    "    # compute loss\n",
    "    predictions_logp = logp_seq[:, :-1]\n",
    "    actual_next_tokens = batch_ix[:, 1:]\n",
    "\n",
    "    loss = -torch.mean(torch.gather(predictions_logp, dim=2, index=actual_next_tokens[:,:,None]))\n",
    "\n",
    "    if loss < best_loss:\n",
    "        best_loss = loss\n",
    "        best_model_wts = copy.deepcopy(model.state_dict())\n",
    "    \n",
    "    # train with backprop\n",
    "    loss.backward()\n",
    "    opt.step()\n",
    "    opt.zero_grad()\n",
    "    \n",
    "    history.append(loss.cpu().data.numpy())\n",
    "    if (i + 1) % 20 == 0:\n",
    "        clear_output(True)\n",
    "        plt.plot(history, label='loss')\n",
    "        plt.legend()\n",
    "        plt.show()\n",
    "\n",
    "assert np.mean(history[:25]) > np.mean(history[-25:]), \"RNN didn't converge.\""
   ]
  },
  {
   "cell_type": "code",
   "execution_count": 11,
   "id": "a00377d5-c49d-42c7-8928-56af86b9f9c5",
   "metadata": {},
   "outputs": [
    {
     "data": {
      "text/plain": [
       "<All keys matched successfully>"
      ]
     },
     "execution_count": 11,
     "metadata": {},
     "output_type": "execute_result"
    }
   ],
   "source": [
    "model.load_state_dict(best_model_wts)"
   ]
  },
  {
   "cell_type": "code",
   "execution_count": 13,
   "id": "7dcf7e05-ea40-42f4-a674-af46b9651e3f",
   "metadata": {},
   "outputs": [
    {
     "name": "stdout",
     "output_type": "stream",
     "text": [
      " Gronitsky           \n",
      " Halyanov            \n",
      " Ababkin             \n",
      " Awduev              \n",
      " Jelohov             \n",
      " Bakhtiev            \n",
      " Jakubov             \n",
      " Belodvich           \n",
      " Mikhalevich         \n",
      " Zhizhin             \n",
      " Bakhmanoff          \n",
      " Zhadonik            \n",
      " Pakhalev            \n",
      " Vasyuk              \n",
      " Agapov              \n",
      " Maksun              \n",
      " Jakushev            \n",
      " Babakhin            \n",
      " Porohov             \n",
      " Barabanov           \n",
      " Baidanov            \n",
      " Baitsin             \n",
      " Bakunov             \n",
      " Avanenko            \n",
      " Halyakin            \n",
      " Makhurov            \n",
      " Jagunov             \n",
      " Jakun               \n",
      " Balanyan            \n",
      " Davidun             \n",
      " Balagurov           \n",
      " Horoshev            \n",
      " Geter               \n",
      " Hetrov              \n",
      " Golovalov           \n",
      " Kalainov            \n",
      " Badykh              \n",
      " Bakarin             \n",
      " Bakshtin            \n",
      " Jamov               \n",
      " Avdyushin           \n",
      " Tsalikov            \n",
      " Balakhov            \n",
      " Kalavin             \n",
      " Jagov               \n",
      " Dovgulin            \n",
      " Derov               \n",
      " Vasyukov            \n",
      " Chukhanovsky        \n",
      " Galenko             \n",
      " Jakov               \n",
      " Vandarsky           \n",
      " Tsalevsky           \n",
      " Avdulaev            \n",
      " Jatsukhin           \n",
      " Balabanov           \n",
      " Andrushkin          \n",
      " Valdetsky           \n",
      " Balabukhin          \n",
      " Baidaloff           \n",
      " Engorov             \n",
      " Tsarenkov           \n",
      " Jangaliev           \n",
      " Zhelikov            \n",
      " Tupas               \n",
      " Djandarev           \n",
      " Abaloff             \n",
      " Agashev             \n",
      " Grushkin            \n",
      " Babanyan            \n",
      " Babuhin             \n",
      " Bakhtiev            \n",
      " Alferov             \n",
      " Jakun               \n",
      " Balaban             \n",
      " Virentsev           \n",
      " Adeshkenko          \n",
      " Mihalevich          \n",
      " Babakhin            \n",
      " Bakun               \n",
      " Chukhin             \n",
      " Molody              \n",
      " Shambaev            \n",
      " Molodov             \n",
      " Janovin             \n",
      " Nahamsky            \n",
      " Awtonoff            \n",
      " Chakhnov            \n",
      " Tomashev            \n",
      " Martyuk             \n",
      " Martyshev           \n",
      " Pakhaev             \n",
      " Jandarev            \n",
      " Dubnikov            \n",
      " Martyshkin          \n",
      " Averchenko          \n",
      " Jagin               \n",
      " Vasyukov            \n",
      " Agerkin             \n",
      " Zhukhin             \n"
     ]
    }
   ],
   "source": [
    "def generate_sample(char_rnn, seed_phrase=' ', max_length=MAX_LENGTH, temperature=1.0):\n",
    "    '''\n",
    "    The function generates text given a phrase of length at least SEQ_LENGTH.\n",
    "    :param seed_phrase: prefix characters. The RNN is asked to continue the phrase\n",
    "    :param max_length: maximum output length, including seed_phrase\n",
    "    :param temperature: coefficient for sampling.  higher temperature produces more chaotic outputs,\n",
    "                        smaller temperature converges to the single most likely output\n",
    "    '''\n",
    "    \n",
    "    x_sequence = [[token_to_id[token] for token in seed_phrase]]\n",
    "    x_sequence = torch.tensor(x_sequence, dtype=torch.int64)\n",
    "    \n",
    "    h_t = None\n",
    "    c_t = None\n",
    "    if len(seed_phrase) > 1:\n",
    "        _, h_t, c_t = model.forward(x_sequence[:, :-1], h_t)\n",
    "    \n",
    "    for _ in range(max_length - len(seed_phrase)):\n",
    "        logp_next, h_t, c_t = model.forward(x_sequence[:, -1].unsqueeze(-1), h_t, c_t)\n",
    "        p_next = F.softmax(logp_next / temperature, dim=-1).data.numpy()[0]\n",
    "        \n",
    "        next_ix = np.random.choice(len(tokens), p=p_next[0])\n",
    "        next_ix = torch.tensor([[next_ix]], dtype=torch.int64)\n",
    "        x_sequence = torch.cat([x_sequence, next_ix], dim=1)\n",
    "        \n",
    "    return ''.join([tokens[ix] for ix in x_sequence[0].data.numpy()])\n",
    "\n",
    "\n",
    "model = model.to('cpu')\n",
    "for _ in range(100):\n",
    "    print(generate_sample(model, seed_phrase=' ', temperature=0.5))"
   ]
  },
  {
   "cell_type": "code",
   "execution_count": null,
   "id": "33a9e926-7909-40ce-9651-4b58cf739190",
   "metadata": {},
   "outputs": [],
   "source": []
  }
 ],
 "metadata": {
  "kernelspec": {
   "display_name": "Python 3 (ipykernel)",
   "language": "python",
   "name": "python3"
  },
  "language_info": {
   "codemirror_mode": {
    "name": "ipython",
    "version": 3
   },
   "file_extension": ".py",
   "mimetype": "text/x-python",
   "name": "python",
   "nbconvert_exporter": "python",
   "pygments_lexer": "ipython3",
   "version": "3.8.9"
  }
 },
 "nbformat": 4,
 "nbformat_minor": 5
}
