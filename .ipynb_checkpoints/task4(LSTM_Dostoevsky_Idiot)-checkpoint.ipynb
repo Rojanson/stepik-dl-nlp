{
 "cells": [
  {
   "cell_type": "code",
   "execution_count": 1,
   "id": "cfab8f2d-22b8-4651-9411-7a68a7989eea",
   "metadata": {},
   "outputs": [],
   "source": [
    "import os\n",
    "import re\n",
    "import collections\n",
    "import copy\n",
    "\n",
    "import numpy as np\n",
    "import matplotlib.pyplot as plt\n",
    "%matplotlib inline\n",
    "\n",
    "from IPython.display import clear_output\n",
    "from random import sample\n",
    "\n",
    "import dlnlputils\n",
    "from dlnlputils.data import tokenize_corpus, build_vocabulary\n",
    "import torch\n",
    "\n",
    "device = torch.device(\"cuda:0\" if torch.cuda.is_available() else \"cpu\")"
   ]
  },
  {
   "cell_type": "code",
   "execution_count": 2,
   "id": "ea577f25-ce6e-46e5-858c-184e15a80a45",
   "metadata": {},
   "outputs": [],
   "source": [
    "# Если Вы запускаете ноутбук на colab или kaggle, добавьте в начало пути ./stepik-dl-nlp\n",
    "with open('datasets/Dostoevskiy_IDIOT.txt', encoding=\"utf8\") as input_file:\n",
    "    lovecraft_text = input_file.read()\n",
    "lovecraft_text = lovecraft_text.replace('\\n', ' ' )"
   ]
  },
  {
   "cell_type": "code",
   "execution_count": 3,
   "id": "0224107d-80d0-4a43-bc6f-276394a20d84",
   "metadata": {},
   "outputs": [
    {
     "data": {
      "text/plain": [
       "13734"
      ]
     },
     "execution_count": 3,
     "metadata": {},
     "output_type": "execute_result"
    }
   ],
   "source": [
    "t_re = re.compile(r'[А-Я].*?[\\.!?]', re.M)\n",
    "handled_text = t_re.findall(lovecraft_text)\n",
    "len(handled_text)"
   ]
  },
  {
   "cell_type": "code",
   "execution_count": 4,
   "id": "8467a051-24f5-4e98-bf62-c1c03a2569f4",
   "metadata": {},
   "outputs": [],
   "source": [
    "MAX_LENGTH = 85\n",
    "\n",
    "t_re = re.compile(r'[А-Я].*?[,]', re.M)\n",
    "\n",
    "for i in range(len(handled_text)):\n",
    "    handled_text[i] = ' ' + handled_text[i]\n",
    "    if len(handled_text[i]) > MAX_LENGTH:\n",
    "        end_word_index = MAX_LENGTH\n",
    "        if handled_text[i][MAX_LENGTH - 1] != ' ':\n",
    "            end_word_index = handled_text[i].find(' ', MAX_LENGTH - 1)\n",
    "        handled_text[i] = handled_text[i][:end_word_index]"
   ]
  },
  {
   "cell_type": "code",
   "execution_count": 5,
   "id": "df7b349f-11fb-4b7d-9619-7852b5da8ce6",
   "metadata": {},
   "outputs": [
    {
     "data": {
      "text/plain": [
       "[' В конце ноября, в оттепель, часов в девять утра, поезд Петербургско-Варшавской железной',\n",
       " ' Было так сыро и туманно, что насилу рассвело; в десяти шагах, вправо и влево от дороги,',\n",
       " ' Из пассажиров были и возвращавшиеся из-за границы; но более были наполнены отделения',\n",
       " ' Все, как водится, устали, у всех отяжелели за ночь глаза, все назяблись, все лица были',\n",
       " ' В одном из вагонов третьего класса, с рассвета, очутились друг против друга, у самого',\n",
       " ' Если б они оба знали один про другого, чем они особенно в эту минуту замечательны, то,',\n",
       " ' Один из них был небольшого роста, лет двадцати семи, курчавый и почти черноволосый, ',\n",
       " ' Нос его был широк и сплюснут, лицо скулистое; тонкие губы беспрерывно складывались в',\n",
       " ' Особенно приметна была в этом лице его мертвая бледность, придававшая всей физиономии',\n",
       " ' Он был тепло одет, в широкий, мерлушечий, черный, крытый тулуп, и за ночь не зяб, тогда']"
      ]
     },
     "execution_count": 5,
     "metadata": {},
     "output_type": "execute_result"
    }
   ],
   "source": [
    "handled_text[:10]"
   ]
  },
  {
   "cell_type": "code",
   "execution_count": 6,
   "id": "19ec52be-8d63-4618-96dc-c0363055ca2d",
   "metadata": {},
   "outputs": [],
   "source": [
    "#t_re = re.compile(r'([^\\.!?]*[\\.!?])', re.M)\n",
    "#handled_text = t_re.findall(lovecraft_text)\n",
    "#len(handled_text)"
   ]
  },
  {
   "cell_type": "code",
   "execution_count": 7,
   "id": "0e3166c0-2754-4519-b836-46a351d611c5",
   "metadata": {},
   "outputs": [
    {
     "name": "stdout",
     "output_type": "stream",
     "text": [
      "num_tokens = 127\n"
     ]
    }
   ],
   "source": [
    "#all unique characters go here\n",
    "tokens = list(set(''.join(handled_text)))\n",
    "\n",
    "num_tokens = len(tokens)\n",
    "print ('num_tokens =', num_tokens)"
   ]
  },
  {
   "cell_type": "code",
   "execution_count": 8,
   "id": "167fd7ec-8d49-4c3d-a113-152cf652ce21",
   "metadata": {},
   "outputs": [],
   "source": [
    "token_to_id = {token: idx for idx, token in enumerate(tokens)}"
   ]
  },
  {
   "cell_type": "code",
   "execution_count": 9,
   "id": "5fa6cb00-7f32-4e4d-9875-a34a53c3ed8e",
   "metadata": {},
   "outputs": [
    {
     "name": "stdout",
     "output_type": "stream",
     "text": [
      "Seems alright!\n"
     ]
    }
   ],
   "source": [
    "assert len(tokens) == len(token_to_id), \"dictionaries must have same size\"\n",
    "\n",
    "for i in range(num_tokens):\n",
    "    assert token_to_id[tokens[i]] == i, \"token identifier must be it's position in tokens list\"\n",
    "\n",
    "print(\"Seems alright!\")"
   ]
  },
  {
   "cell_type": "code",
   "execution_count": 10,
   "id": "71519716-4b58-496a-a42f-76e49f85a7fc",
   "metadata": {},
   "outputs": [],
   "source": [
    "def to_matrix(data, token_to_id, max_len=None, dtype='int32', batch_first = True):\n",
    "    \"\"\"Casts a list of names into rnn-digestable matrix\"\"\"\n",
    "    \n",
    "    max_len = max_len or max(map(len, data))\n",
    "    data_ix = np.zeros([len(data), max_len], dtype) + token_to_id[' ']\n",
    "\n",
    "    for i in range(len(data)):\n",
    "        line_ix = [token_to_id[c] for c in data[i]]\n",
    "        data_ix[i, :len(line_ix)] = line_ix\n",
    "        \n",
    "    if not batch_first: # convert [batch, time] into [time, batch]\n",
    "        data_ix = np.transpose(data_ix)\n",
    "\n",
    "    return data_ix"
   ]
  },
  {
   "cell_type": "code",
   "execution_count": 11,
   "id": "157eb44c-8aff-418a-ac6a-3acb0bc0f0d0",
   "metadata": {},
   "outputs": [
    {
     "name": "stdout",
     "output_type": "stream",
     "text": [
      " Все, как водится, устали, у всех отяжелели за ночь глаза, все назяблись, все лица были\n",
      "[ 33  96  44  86  61  33 123  64 123  33  84 100  78   1   2  44  59  61\n",
      "  33  53  44   2  64 118   1  61  33  53  33  84  44  86   0  33 100   2\n",
      "  59 115  86 118  86 118   1  33 103  64  33  85 100  26  83  33  28 118\n",
      "  64 103  64  61  33  84  44  86  33  85  64 103  59  72 118   1  44  83\n",
      "  61  33  84  44  86  33 118   1  14  64  33  72 111 118   1]\n",
      "87\n"
     ]
    }
   ],
   "source": [
    "print(handled_text[3])\n",
    "print(to_matrix(handled_text[3:5], token_to_id)[0])\n",
    "print(len(handled_text[3]))"
   ]
  },
  {
   "cell_type": "code",
   "execution_count": 12,
   "id": "afa9d778-6cee-44bb-8662-fcfb5aa36f90",
   "metadata": {},
   "outputs": [],
   "source": [
    "import torch, torch.nn as nn\n",
    "import torch.nn.functional as F"
   ]
  },
  {
   "cell_type": "code",
   "execution_count": 13,
   "id": "f2720cb5-757d-4ee3-9874-9ebc60cd5233",
   "metadata": {},
   "outputs": [],
   "source": [
    "from IPython.display import clear_output\n",
    "from random import sample\n",
    "\n",
    "class CharLSTMLoop(nn.Module):\n",
    "    def __init__(self, num_tokens=num_tokens, emb_size=64, hidden_size=512):\n",
    "        super(self.__class__, self).__init__()\n",
    "        self.emb = nn.Embedding(num_tokens, emb_size)\n",
    "        self.LSTM = nn.LSTM(input_size=emb_size, hidden_size=hidden_size, num_layers=2, batch_first=True)\n",
    "        self.hid_to_logits = nn.Linear(hidden_size, num_tokens)\n",
    "        \n",
    "    def forward(self, x, h=None, c=None):\n",
    "        if h is not None and c is not None:\n",
    "            out_put, (h_new, c_new) = self.LSTM(self.emb(x), (h, c))\n",
    "        else:\n",
    "            out_put, (h_new, c_new) = self.LSTM(self.emb(x))\n",
    "            \n",
    "        next_logits = self.hid_to_logits(out_put)\n",
    "        next_logp = F.log_softmax(next_logits, dim=-1)\n",
    "        \n",
    "        return next_logp, h_new, c_new"
   ]
  },
  {
   "cell_type": "code",
   "execution_count": 18,
   "id": "6666ab20-ada7-4135-aaa6-dd3ec08194ff",
   "metadata": {},
   "outputs": [
    {
     "data": {
      "image/png": "[encoded data removed]",
      "text/plain": [
       "<Figure size 432x288 with 1 Axes>"
      ]
     },
     "metadata": {
      "needs_background": "light"
     },
     "output_type": "display_data"
    }
   ],
   "source": [
    "#here i started cell twice(that is why we got 8000 epochs here)\n",
    "MAX_LENGTH = max(map(len, handled_text))\n",
    "\n",
    "#model = CharLSTMLoop()\n",
    "model = model.to(device)\n",
    "#opt = torch.optim.Adam(model.parameters())\n",
    "#history = []\n",
    "\n",
    "#best_loss = 6\n",
    "\n",
    "best_model_wts = copy.deepcopy(model.state_dict())\n",
    "\n",
    "for i in range(4000):\n",
    "    batch_ix = to_matrix(sample(handled_text, 128), token_to_id, max_len=MAX_LENGTH)\n",
    "    batch_ix = torch.tensor(batch_ix, dtype=torch.int64).to(device)\n",
    "\n",
    "    logp_seq, _, _ = model(batch_ix)\n",
    "    \n",
    "    # compute loss\n",
    "    predictions_logp = logp_seq[:, :-1]\n",
    "    actual_next_tokens = batch_ix[:, 1:]\n",
    "\n",
    "    loss = -torch.mean(torch.gather(predictions_logp, dim=2, index=actual_next_tokens[:,:,None]))\n",
    "\n",
    "    if loss < best_loss:\n",
    "        best_loss = loss\n",
    "        best_model_wts = copy.deepcopy(model.state_dict())\n",
    "    \n",
    "    # train with backprop\n",
    "    loss.backward()\n",
    "    opt.step()\n",
    "    opt.zero_grad()\n",
    "    \n",
    "    history.append(loss.cpu().data.numpy())\n",
    "    if (i + 1) % 20 == 0:\n",
    "        clear_output(True)\n",
    "        plt.plot(history, label='loss')\n",
    "        plt.legend()\n",
    "        plt.show()\n",
    "\n",
    "assert np.mean(history[:25]) > np.mean(history[-25:]), \"RNN didn't converge.\""
   ]
  },
  {
   "cell_type": "code",
   "execution_count": 19,
   "id": "a00377d5-c49d-42c7-8928-56af86b9f9c5",
   "metadata": {},
   "outputs": [
    {
     "data": {
      "text/plain": [
       "<All keys matched successfully>"
      ]
     },
     "execution_count": 19,
     "metadata": {},
     "output_type": "execute_result"
    }
   ],
   "source": [
    "model.load_state_dict(best_model_wts)"
   ]
  },
  {
   "cell_type": "code",
   "execution_count": 20,
   "id": "7dcf7e05-ea40-42f4-a674-af46b9651e3f",
   "metadata": {},
   "outputs": [
    {
     "name": "stdout",
     "output_type": "stream",
     "text": [
      " А я думал, что уж сказал… Я одно такое письмецо получил, для передучить меня маленькую и тоскую      \n",
      " Он поворотил назад и прямо по дороге, по которой проходил вчера с Евлечением смотря                  \n",
      " Вы не отвечаете мне?                                                                                 \n",
      " Не стоите вы все ничего.                                                                             \n",
      " Если он сейчас не подойдет ко мне, не возьмет меня и не бросит тебя, то бери же его                  \n",
      " Ну, вот, вздор какой!                                                                                \n",
      " В последние десять или двадцать минут он говорил, разгорячившись, громко, нетерпеливою               \n",
      " Настасья Филипповна проходила в эту минуту мимо самых стульев барышень.                              \n",
      " Не могу же я получать эти письма!                                                                    \n",
      " В этом лице… страдания много… – проговорил князь, как бы невольно, как бы сам с собою                \n"
     ]
    }
   ],
   "source": [
    "def generate_sample(char_rnn, seed_phrase=' ', max_length=MAX_LENGTH, temperature=1.0):\n",
    "    '''\n",
    "    The function generates text given a phrase of length at least SEQ_LENGTH.\n",
    "    :param seed_phrase: prefix characters. The RNN is asked to continue the phrase\n",
    "    :param max_length: maximum output length, including seed_phrase\n",
    "    :param temperature: coefficient for sampling.  higher temperature produces more chaotic outputs,\n",
    "                        smaller temperature converges to the single most likely output\n",
    "    '''\n",
    "    \n",
    "    x_sequence = [[token_to_id[token] for token in seed_phrase]]\n",
    "    x_sequence = torch.tensor(x_sequence, dtype=torch.int64)\n",
    "    \n",
    "    h_t = None\n",
    "    c_t = None\n",
    "    if len(seed_phrase) > 1:\n",
    "        _, h_t, c_t = model.forward(x_sequence[:, :-1], h_t)\n",
    "    \n",
    "    for _ in range(max_length - len(seed_phrase)):\n",
    "        logp_next, h_t, c_t = model.forward(x_sequence[:, -1].unsqueeze(-1), h_t, c_t)\n",
    "        p_next = F.softmax(logp_next / temperature, dim=-1).data.numpy()[0]\n",
    "        \n",
    "        next_ix = np.random.choice(len(tokens), p=p_next[0])\n",
    "        next_ix = torch.tensor([[next_ix]], dtype=torch.int64)\n",
    "        x_sequence = torch.cat([x_sequence, next_ix], dim=1)\n",
    "        \n",
    "    return ''.join([tokens[ix] for ix in x_sequence[0].data.numpy()])\n",
    "\n",
    "\n",
    "model = model.to('cpu')\n",
    "for _ in range(10):\n",
    "    print(generate_sample(model, seed_phrase=' ', temperature=0.5))"
   ]
  },
  {
   "cell_type": "code",
   "execution_count": 23,
   "id": "33a9e926-7909-40ce-9651-4b58cf739190",
   "metadata": {},
   "outputs": [
    {
     "name": "stdout",
     "output_type": "stream",
     "text": [
      " Но разъяснив вам, что меня не так-то легко прожить в положение делать.                               \n",
      " Право, всё это как-то нелепо и не может быть.                                                        \n",
      " Не было бы этого, я, может быть, никогда ему не усказала до считать, – вот к делу,                   \n",
      " Ну, уж теперь совсем довольно!                                                                       \n",
      " Тут один Тоцкий.                                                                                     \n",
      " Приличие и чинность чрезвычайные, несмотря на некоторый общий вид семейственности и                  \n",
      " Князь пригласил его садиться.                                                                        \n",
      " Почему она один вдруг встал с себя от удивленный вчерашней верлости, развернуть                      \n",
      " Лизавета Прокофьевна прямо направилась в сторону, противоположную той, в которую направлялись        \n",
      " Если бы вы пожили больше с людьми, а в свете, я надеюсь, вам будут рады, как замечательному          \n"
     ]
    }
   ],
   "source": [
    "for _ in range(10):\n",
    "    print(generate_sample(model, seed_phrase=' ', temperature=0.65))"
   ]
  },
  {
   "cell_type": "code",
   "execution_count": 26,
   "id": "541c89d7-0c59-4e6d-93fc-38750867b30f",
   "metadata": {},
   "outputs": [],
   "source": [
    "torch.save(model, 'Doestoevsky.pt')"
   ]
  }
 ],
 "metadata": {
  "kernelspec": {
   "display_name": "Python 3 (ipykernel)",
   "language": "python",
   "name": "python3"
  },
  "language_info": {
   "codemirror_mode": {
    "name": "ipython",
    "version": 3
   },
   "file_extension": ".py",
   "mimetype": "text/x-python",
   "name": "python",
   "nbconvert_exporter": "python",
   "pygments_lexer": "ipython3",
   "version": "3.8.9"
  }
 },
 "nbformat": 4,
 "nbformat_minor": 5
}
