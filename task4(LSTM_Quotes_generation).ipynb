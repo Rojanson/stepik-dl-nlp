{
 "cells": [
  {
   "cell_type": "code",
   "execution_count": 1,
   "id": "cfab8f2d-22b8-4651-9411-7a68a7989eea",
   "metadata": {},
   "outputs": [],
   "source": [
    "import os\n",
    "import re\n",
    "import collections\n",
    "import copy\n",
    "\n",
    "import numpy as np\n",
    "import matplotlib.pyplot as plt\n",
    "%matplotlib inline\n",
    "\n",
    "from IPython.display import clear_output\n",
    "from random import sample\n",
    "\n",
    "import dlnlputils\n",
    "from dlnlputils.data import tokenize_corpus, build_vocabulary\n",
    "import torch\n",
    "\n",
    "device = torch.device(\"cuda:0\" if torch.cuda.is_available() else \"cpu\")"
   ]
  },
  {
   "cell_type": "code",
   "execution_count": 2,
   "id": "f1c3f448-5bc5-47b3-8a2e-0c8b71abfd60",
   "metadata": {},
   "outputs": [],
   "source": [
    "# Если Вы запускаете ноутбук на colab или kaggle, добавьте в начало пути ./stepik-dl-nlp\n",
    "with open('datasets/author_quotes.txt') as input_file:\n",
    "    quotes = input_file.read()[:-1].split('\\n')\n",
    "    quotes = [' ' + line for line in quotes]\n",
    "handled_text = quotes"
   ]
  },
  {
   "cell_type": "code",
   "execution_count": 3,
   "id": "0e3166c0-2754-4519-b836-46a351d611c5",
   "metadata": {},
   "outputs": [
    {
     "name": "stdout",
     "output_type": "stream",
     "text": [
      "num_tokens = 88\n"
     ]
    }
   ],
   "source": [
    "#all unique characters go here\n",
    "tokens = list(set(''.join(handled_text)))\n",
    "\n",
    "num_tokens = len(tokens)\n",
    "print ('num_tokens =', num_tokens)"
   ]
  },
  {
   "cell_type": "code",
   "execution_count": 4,
   "id": "167fd7ec-8d49-4c3d-a113-152cf652ce21",
   "metadata": {},
   "outputs": [],
   "source": [
    "token_to_id = {token: idx for idx, token in enumerate(tokens)}"
   ]
  },
  {
   "cell_type": "code",
   "execution_count": 5,
   "id": "5fa6cb00-7f32-4e4d-9875-a34a53c3ed8e",
   "metadata": {},
   "outputs": [
    {
     "name": "stdout",
     "output_type": "stream",
     "text": [
      "Seems alright!\n"
     ]
    }
   ],
   "source": [
    "assert len(tokens) == len(token_to_id), \"dictionaries must have same size\"\n",
    "\n",
    "for i in range(num_tokens):\n",
    "    assert token_to_id[tokens[i]] == i, \"token identifier must be it's position in tokens list\"\n",
    "\n",
    "print(\"Seems alright!\")"
   ]
  },
  {
   "cell_type": "code",
   "execution_count": 6,
   "id": "71519716-4b58-496a-a42f-76e49f85a7fc",
   "metadata": {},
   "outputs": [],
   "source": [
    "def to_matrix(data, token_to_id, max_len=None, dtype='int32', batch_first = True):\n",
    "    \"\"\"Casts a list of names into rnn-digestable matrix\"\"\"\n",
    "    \n",
    "    max_len = max_len or max(map(len, data))\n",
    "    data_ix = np.zeros([len(data), max_len], dtype) + token_to_id[' ']\n",
    "\n",
    "    for i in range(len(data)):\n",
    "        line_ix = [token_to_id[c] for c in data[i]]\n",
    "        data_ix[i, :len(line_ix)] = line_ix\n",
    "        \n",
    "    if not batch_first: # convert [batch, time] into [time, batch]\n",
    "        data_ix = np.transpose(data_ix)\n",
    "\n",
    "    return data_ix"
   ]
  },
  {
   "cell_type": "code",
   "execution_count": 7,
   "id": "157eb44c-8aff-418a-ac6a-3acb0bc0f0d0",
   "metadata": {},
   "outputs": [
    {
     "name": "stdout",
     "output_type": "stream",
     "text": [
      " Organizing is what you do before you do something, so that when you do it, it is not all mixed up.\n",
      "[87 64 13 47 30 39 28 42 28 39 47 87 28 49 87 12 51 30 36 87 68  0 66 87\n",
      " 57  0 87 27 60  5  0 13 60 87 68  0 66 87 57  0 87 49  0 53 60 36 51 28\n",
      " 39 47 11 87 49  0 87 36 51 30 36 87 12 51 60 39 87 68  0 66 87 57  0 87\n",
      " 28 36 11 87 28 36 87 28 49 87 39  0 36 87 30 35 35 87 53 28 52 60 57 87\n",
      " 66 65 55]\n",
      "99\n"
     ]
    }
   ],
   "source": [
    "print(handled_text[3])\n",
    "print(to_matrix(handled_text[3:5], token_to_id)[0])\n",
    "print(len(handled_text[3]))"
   ]
  },
  {
   "cell_type": "code",
   "execution_count": 8,
   "id": "afa9d778-6cee-44bb-8662-fcfb5aa36f90",
   "metadata": {},
   "outputs": [],
   "source": [
    "import torch, torch.nn as nn\n",
    "import torch.nn.functional as F"
   ]
  },
  {
   "cell_type": "code",
   "execution_count": 9,
   "id": "f2720cb5-757d-4ee3-9874-9ebc60cd5233",
   "metadata": {},
   "outputs": [],
   "source": [
    "from IPython.display import clear_output\n",
    "from random import sample\n",
    "\n",
    "class CharLSTMLoop(nn.Module):\n",
    "    def __init__(self, num_tokens=num_tokens, emb_size=64, hidden_size=256):\n",
    "        super(self.__class__, self).__init__()\n",
    "        self.emb = nn.Embedding(num_tokens, emb_size)\n",
    "        self.LSTM = nn.LSTM(input_size=emb_size, hidden_size=hidden_size, num_layers=3, batch_first=True)\n",
    "        self.hid_to_logits = nn.Linear(hidden_size, num_tokens)\n",
    "        \n",
    "    def forward(self, x, h=None, c=None):\n",
    "        if h is not None and c is not None:\n",
    "            out_put, (h_new, c_new) = self.LSTM(self.emb(x), (h, c))\n",
    "        else:\n",
    "            out_put, (h_new, c_new) = self.LSTM(self.emb(x))\n",
    "            \n",
    "        next_logits = self.hid_to_logits(out_put)\n",
    "        next_logp = F.log_softmax(next_logits, dim=-1)\n",
    "        \n",
    "        return next_logp, h_new, c_new"
   ]
  },
  {
   "cell_type": "code",
   "execution_count": 10,
   "id": "6666ab20-ada7-4135-aaa6-dd3ec08194ff",
   "metadata": {},
   "outputs": [
    {
     "data": {
      "image/png": "[encoded data removed]",
      "text/plain": [
       "<Figure size 432x288 with 1 Axes>"
      ]
     },
     "metadata": {
      "needs_background": "light"
     },
     "output_type": "display_data"
    }
   ],
   "source": [
    "MAX_LENGTH = max(map(len, handled_text))\n",
    "\n",
    "model = CharLSTMLoop()\n",
    "model = model.to(device)\n",
    "opt = torch.optim.Adam(model.parameters())\n",
    "history = []\n",
    "\n",
    "best_loss = 6\n",
    "\n",
    "best_model_wts = copy.deepcopy(model.state_dict())\n",
    "\n",
    "for i in range(4000):\n",
    "    batch_ix = to_matrix(sample(handled_text, 32), token_to_id, max_len=MAX_LENGTH)\n",
    "    batch_ix = torch.tensor(batch_ix, dtype=torch.int64).to(device)\n",
    "\n",
    "    logp_seq, _, _ = model(batch_ix)\n",
    "    \n",
    "    # compute loss\n",
    "    predictions_logp = logp_seq[:, :-1]\n",
    "    actual_next_tokens = batch_ix[:, 1:]\n",
    "\n",
    "    loss = -torch.mean(torch.gather(predictions_logp, dim=2, index=actual_next_tokens[:,:,None]))\n",
    "\n",
    "    if loss < best_loss:\n",
    "        best_loss = loss\n",
    "        best_model_wts = copy.deepcopy(model.state_dict())\n",
    "    \n",
    "    # train with backprop\n",
    "    loss.backward()\n",
    "    opt.step()\n",
    "    opt.zero_grad()\n",
    "    \n",
    "    history.append(loss.cpu().data.numpy())\n",
    "    if (i + 1) % 20 == 0:\n",
    "        clear_output(True)\n",
    "        plt.plot(history, label='loss')\n",
    "        plt.legend()\n",
    "        plt.show()\n",
    "\n",
    "assert np.mean(history[:25]) > np.mean(history[-25:]), \"RNN didn't converge.\""
   ]
  },
  {
   "cell_type": "code",
   "execution_count": 11,
   "id": "a00377d5-c49d-42c7-8928-56af86b9f9c5",
   "metadata": {},
   "outputs": [
    {
     "data": {
      "text/plain": [
       "<All keys matched successfully>"
      ]
     },
     "execution_count": 11,
     "metadata": {},
     "output_type": "execute_result"
    }
   ],
   "source": [
    "model.load_state_dict(best_model_wts)"
   ]
  },
  {
   "cell_type": "code",
   "execution_count": 12,
   "id": "7dcf7e05-ea40-42f4-a674-af46b9651e3f",
   "metadata": {},
   "outputs": [
    {
     "name": "stdout",
     "output_type": "stream",
     "text": [
      " The early ones were something else is the post of the prool of the end.                                                                                                                                                                                                                                                                                                                                                     \n",
      " I'm a problem in an all the small from a blessing stuff, and I'll love the man who has an alled that because they do not expect the people are country in the mind of lives that are truth in the time to think that I want to have to talk the same things and some single process.                                                                                                                                        \n",
      " I have never really a sense that are a real and eventield that the ones that they get a book and the one should play the properity. The state is not going to be a big serve world and more to different words.                                                                                                                                                                                                             \n",
      " We have like human  was an end, but even traveling steps and in a company some priver and president can trust the souther wrong and our own people when they should be a good company that we create the characters, and the way they are like the same time, don't live a lot of the steps of the sense of divine and hit the same than here was burned the whole eyes to know the universe story elections.               \n",
      " The dead is the believer on the actors and women, but the truth and particular ways of student, and the most faith of the most service of the court them to think that life on the mind that has backed to the student than the soul that great security.                                                                                                                                                                   \n",
      " I used to think the public children.                                                                                                                                                                                                                                                                                                                                                                                        \n",
      " We were all as a dad that people like how to go to the man.                                                                                                                                                                                                                                                                                                                                                                 \n",
      " I have always been won from other people.                                                                                                                                                                                                                                                                                                                                                                                   \n",
      " I don't think you mean the problem of character.                                                                                                                                                                                                                                                                                                                                                                            \n",
      " I think about my narder, I think I had some experience of his promised surprising in a world of doing it more.                                                                                                                                                                                                                                                                                                              \n"
     ]
    }
   ],
   "source": [
    "def generate_sample(char_rnn, seed_phrase=' ', max_length=MAX_LENGTH, temperature=1.0):\n",
    "    '''\n",
    "    The function generates text given a phrase of length at least SEQ_LENGTH.\n",
    "    :param seed_phrase: prefix characters. The RNN is asked to continue the phrase\n",
    "    :param max_length: maximum output length, including seed_phrase\n",
    "    :param temperature: coefficient for sampling.  higher temperature produces more chaotic outputs,\n",
    "                        smaller temperature converges to the single most likely output\n",
    "    '''\n",
    "    \n",
    "    x_sequence = [[token_to_id[token] for token in seed_phrase]]\n",
    "    x_sequence = torch.tensor(x_sequence, dtype=torch.int64)\n",
    "    \n",
    "    h_t = None\n",
    "    c_t = None\n",
    "    if len(seed_phrase) > 1:\n",
    "        _, h_t, c_t = model.forward(x_sequence[:, :-1], h_t)\n",
    "    \n",
    "    for _ in range(max_length - len(seed_phrase)):\n",
    "        logp_next, h_t, c_t = model.forward(x_sequence[:, -1].unsqueeze(-1), h_t, c_t)\n",
    "        p_next = F.softmax(logp_next / temperature, dim=-1).data.numpy()[0]\n",
    "        \n",
    "        next_ix = np.random.choice(len(tokens), p=p_next[0])\n",
    "        next_ix = torch.tensor([[next_ix]], dtype=torch.int64)\n",
    "        x_sequence = torch.cat([x_sequence, next_ix], dim=1)\n",
    "        \n",
    "    return ''.join([tokens[ix] for ix in x_sequence[0].data.numpy()])\n",
    "\n",
    "\n",
    "model = model.to('cpu')\n",
    "for _ in range(10):\n",
    "    print(generate_sample(model, seed_phrase=' ', temperature=0.6))"
   ]
  },
  {
   "cell_type": "code",
   "execution_count": 13,
   "id": "33a9e926-7909-40ce-9651-4b58cf739190",
   "metadata": {},
   "outputs": [
    {
     "name": "stdout",
     "output_type": "stream",
     "text": [
      " Humanity is the post the enemy that you feel personally stream of the world of many of the fire of respection to make a school to the leaves and defend the education, and the people who seem to make the sound of having measured and person in a black to have the same things that we have to be involved with the newspation of selling someone who say them about anything that it can feel the characters of writing.\n",
      " Humanity is the actual belief.                                                                                                                                                                                                                                                                                                                                                                                              \n",
      " Humanity is that some universe is to possible to put the world and that doesn't have to do it that a lot of people.                                                                                                                                                                                                                                                                                                         \n",
      " Humanity is a big destiny in the estimation of the soul has given the world.                                                                                                                                                                                                                                                                                                                                                \n",
      " Humanity is a superstity of live in the best of course.                                                                                                                                                                                                                                                                                                                                                                     \n",
      " Humanity is the sense of things about the same people will be a company they are my destruction was the religion of the public states and the sound of determination.                                                                                                                                                                                                                                                       \n",
      " Humanity is in the standards that we have no course of dediving their streets in the world that the fact to think that's life for the fact that people come from my house.                                                                                                                                                                                                                                                  \n",
      " Humanity is have got them offer a sex productions but the only people so the people are still and start to the future and remown to the traveling and an existence of the heart.                                                                                                                                                                                                                                            \n",
      " Humanity is never been something to respect what they say that all the first books.                                                                                                                                                                                                                                                                                                                                         \n",
      " Humanity is not all the world water and should be an artist.                                                                                                                                                                                                                                                                                                                                                                \n"
     ]
    }
   ],
   "source": [
    "for _ in range(10):\n",
    "    print(generate_sample(model, seed_phrase=' Humanity is', temperature=0.6))"
   ]
  },
  {
   "cell_type": "code",
   "execution_count": 14,
   "id": "25cd686e-56cb-4bf0-acdc-a166fc69b966",
   "metadata": {},
   "outputs": [
    {
     "name": "stdout",
     "output_type": "stream",
     "text": [
      " Finds when a world means the punit on the vigue or being his mind in the same time.                                                                                                                                                                                                                                                                                                                                         \n",
      " Find the power of hove is the world in a story.                                                                                                                                                                                                                                                                                                                                                                             \n",
      " Finding my reliarity and my people like way to come to the sense.                                                                                                                                                                                                                                                                                                                                                           \n",
      " Find it was compart with the way that we miss a bit that we must for the most social players than a song of the individual of the world to the generation of the world and profound the second the same things of the idea of character and ende for all of the submon.                                                                                                                                                     \n",
      " Find in the truth is to dream that we want to come to me.                                                                                                                                                                                                                                                                                                                                                                   \n",
      " Find cannot be something else.                                                                                                                                                                                                                                                                                                                                                                                              \n",
      " Find the top is a people who have been an individual that the end of people who are not darkness in temptation.                                                                                                                                                                                                                                                                                                             \n",
      " Find the hearts of the process of consecution is the different community that we are a successful story but the same time that we are the universe energy and the most of the last world.                                                                                                                                                                                                                                   \n",
      " Find an interesting compact of his own on a man we see that it's not very light and the only soul.                                                                                                                                                                                                                                                                                                                          \n",
      " Finding a positive came and what you get me to be a star and every day you do anything to stand the freedom, I think I never think the tool people are something that they can have some things that gets not because you have to decline and direction.                                                                                                                                                                    \n"
     ]
    }
   ],
   "source": [
    "for _ in range(10):\n",
    "    print(generate_sample(model, seed_phrase=' Find', temperature=0.6))"
   ]
  },
  {
   "cell_type": "code",
   "execution_count": 15,
   "id": "f927d3b9-a17d-4f2b-9029-a80f172e64b8",
   "metadata": {},
   "outputs": [
    {
     "name": "stdout",
     "output_type": "stream",
     "text": [
      " This scene is not a good thing than a hus of the most players and property to people who should never think you have to accept the sound of the news passion more.                                                                                                                                                                                                                                                          \n",
      " This scene is the possible bigger develop in a mother of the capazity of the possible things of people like.                                                                                                                                                                                                                                                                                                                \n",
      " This scene is not the respect of joy.                                                                                                                                                                                                                                                                                                                                                                                       \n",
      " This scene is to be found to be an expectated work, but makes a product of progress independent.                                                                                                                                                                                                                                                                                                                            \n",
      " This scene is the same next people think about the any of the most expectation that they are they are succender.                                                                                                                                                                                                                                                                                                            \n",
      " This scene is our things are a cartoon of the ampencipe.                                                                                                                                                                                                                                                                                                                                                                    \n",
      " This scene is not successful of the power in the world in a very class and when the discussion.                                                                                                                                                                                                                                                                                                                             \n",
      " This scene is the universe and developing in the fact that I have some movies to do with the most law - sometimes I could do it with the end of the feedered against successful human people who are not looking about the fellow show which was a show.                                                                                                                                                                    \n",
      " This scene is not very sentimental to get consists the acts of all the people are the world and interest in the same time in the most actor.                                                                                                                                                                                                                                                                                \n",
      " This scene is a change of life and we understand the years of single movies are not trying to look for being an actor in the cut of the people.                                                                                                                                                                                                                                                                             \n"
     ]
    }
   ],
   "source": [
    "for _ in range(10):\n",
    "    print(generate_sample(model, seed_phrase=' This scene is', temperature=0.6))"
   ]
  },
  {
   "cell_type": "code",
   "execution_count": 17,
   "id": "fa1d86a5-72bf-4f2b-a4c4-69cbc6fe8fd1",
   "metadata": {},
   "outputs": [
    {
     "name": "stdout",
     "output_type": "stream",
     "text": [
      " People know what I was my believed to do it.                                                                                                                                                                                                                                                                                                                                                                                \n",
      " People are proved the hardest things that were too dome religion of their own says to find the process.                                                                                                                                                                                                                                                                                                                     \n",
      " People write the sense of the character along the support the people and change of the people that remembered they are the color they are no reason that it doesn't be much they are all of the challenges.                                                                                                                                                                                                                 \n",
      " People are the final comedy people are a distintred.                                                                                                                                                                                                                                                                                                                                                                        \n",
      " People think the possibilities that we are for a good friend way.                                                                                                                                                                                                                                                                                                                                                           \n",
      " People are only people are important than a way of all the interest people who do not become the sense of imagination in the people who have plays a book to see it.                                                                                                                                                                                                                                                        \n",
      " People see the things that we have a lot of your measures has to think about the first thing that I love the hours and situational and that's the actors, you know, my face for the superior in the ain.                                                                                                                                                                                                                    \n",
      " People should surprise ourselves all the world in a sense of the same thing about my life and the strongest suspicious life and hell in the combination.                                                                                                                                                                                                                                                                    \n",
      " People have the heart of all the past to do that way - to all the streets of society.                                                                                                                                                                                                                                                                                                                                       \n",
      " People who have succeeded in the curse of the way to be in the critics and the songs and every right in the world - the other people who have never to be a child of country has been the best to see the president of expectation of changes.                                                                                                                                                                              \n"
     ]
    }
   ],
   "source": [
    "for _ in range(10):\n",
    "    print(generate_sample(model, seed_phrase=' People', temperature=0.6))"
   ]
  },
  {
   "cell_type": "code",
   "execution_count": 18,
   "id": "238e9113-6f3e-4017-8882-587eba26469a",
   "metadata": {},
   "outputs": [],
   "source": [
    "torch.save(model, 'Quotes_generation.pt')"
   ]
  }
 ],
 "metadata": {
  "kernelspec": {
   "display_name": "Python 3 (ipykernel)",
   "language": "python",
   "name": "python3"
  },
  "language_info": {
   "codemirror_mode": {
    "name": "ipython",
    "version": 3
   },
   "file_extension": ".py",
   "mimetype": "text/x-python",
   "name": "python",
   "nbconvert_exporter": "python",
   "pygments_lexer": "ipython3",
   "version": "3.8.9"
  }
 },
 "nbformat": 4,
 "nbformat_minor": 5
}
